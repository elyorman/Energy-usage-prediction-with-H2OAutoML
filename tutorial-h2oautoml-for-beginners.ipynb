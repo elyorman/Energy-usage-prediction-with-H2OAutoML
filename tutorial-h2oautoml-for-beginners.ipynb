{
 "cells": [
  {
   "cell_type": "markdown",
   "id": "603b7f08",
   "metadata": {
    "papermill": {
     "duration": 0.017916,
     "end_time": "2021-10-04T12:00:06.006195",
     "exception": false,
     "start_time": "2021-10-04T12:00:05.988279",
     "status": "completed"
    },
    "tags": []
   },
   "source": [
    "# H2O AutoML \n",
    "\n",
    "This notebook applies H2O AutoML on energy usage prediction problem. H2O’s AutoML can be used for automating the machine learning workflow, which includes automatic training and tuning of many models within a user-specified time-limit.\n",
    "\n",
    "* Check the link for more information on H2O AutoML [H2O AutoML documentation](https://docs.h2o.ai/h2o/latest-stable/h2o-docs/automl.html)"
   ]
  },
  {
   "cell_type": "code",
   "execution_count": 1,
   "id": "a409a975",
   "metadata": {
    "execution": {
     "iopub.execute_input": "2021-10-04T12:00:06.046235Z",
     "iopub.status.busy": "2021-10-04T12:00:06.044727Z",
     "iopub.status.idle": "2021-10-04T12:00:14.362028Z",
     "shell.execute_reply": "2021-10-04T12:00:14.363123Z",
     "shell.execute_reply.started": "2021-10-04T09:23:19.15632Z"
    },
    "papermill": {
     "duration": 8.340417,
     "end_time": "2021-10-04T12:00:14.363475",
     "exception": false,
     "start_time": "2021-10-04T12:00:06.023058",
     "status": "completed"
    },
    "tags": []
   },
   "outputs": [
    {
     "name": "stdout",
     "output_type": "stream",
     "text": [
      "3.34.0.1\n",
      "Checking whether there is an H2O instance running at http://localhost:54321 ..... not found.\n",
      "Attempting to start a local H2O server...\n",
      "  Java Version: openjdk version \"11.0.11\" 2021-04-20; OpenJDK Runtime Environment (build 11.0.11+9-Ubuntu-0ubuntu2.18.04); OpenJDK 64-Bit Server VM (build 11.0.11+9-Ubuntu-0ubuntu2.18.04, mixed mode, sharing)\n",
      "  Starting server from /opt/conda/lib/python3.7/site-packages/h2o/backend/bin/h2o.jar\n",
      "  Ice root: /tmp/tmpwy6mr88m\n",
      "  JVM stdout: /tmp/tmpwy6mr88m/h2o_unknownUser_started_from_python.out\n",
      "  JVM stderr: /tmp/tmpwy6mr88m/h2o_unknownUser_started_from_python.err\n",
      "  Server is running at http://127.0.0.1:54321\n",
      "Connecting to H2O server at http://127.0.0.1:54321 ... successful.\n"
     ]
    },
    {
     "data": {
      "text/html": [
       "<div style=\"overflow:auto\"><table style=\"width:50%\"><tr><td>H2O_cluster_uptime:</td>\n",
       "<td>02 secs</td></tr>\n",
       "<tr><td>H2O_cluster_timezone:</td>\n",
       "<td>Etc/UTC</td></tr>\n",
       "<tr><td>H2O_data_parsing_timezone:</td>\n",
       "<td>UTC</td></tr>\n",
       "<tr><td>H2O_cluster_version:</td>\n",
       "<td>3.34.0.1</td></tr>\n",
       "<tr><td>H2O_cluster_version_age:</td>\n",
       "<td>19 days </td></tr>\n",
       "<tr><td>H2O_cluster_name:</td>\n",
       "<td>H2O_from_python_unknownUser_rrwezj</td></tr>\n",
       "<tr><td>H2O_cluster_total_nodes:</td>\n",
       "<td>1</td></tr>\n",
       "<tr><td>H2O_cluster_free_memory:</td>\n",
       "<td>16 Gb</td></tr>\n",
       "<tr><td>H2O_cluster_total_cores:</td>\n",
       "<td>2</td></tr>\n",
       "<tr><td>H2O_cluster_allowed_cores:</td>\n",
       "<td>2</td></tr>\n",
       "<tr><td>H2O_cluster_status:</td>\n",
       "<td>locked, healthy</td></tr>\n",
       "<tr><td>H2O_connection_url:</td>\n",
       "<td>http://127.0.0.1:54321</td></tr>\n",
       "<tr><td>H2O_connection_proxy:</td>\n",
       "<td>{\"http\": null, \"https\": null}</td></tr>\n",
       "<tr><td>H2O_internal_security:</td>\n",
       "<td>False</td></tr>\n",
       "<tr><td>H2O_API_Extensions:</td>\n",
       "<td>Amazon S3, XGBoost, Algos, AutoML, Core V3, TargetEncoder, Core V4</td></tr>\n",
       "<tr><td>Python_version:</td>\n",
       "<td>3.7.10 final</td></tr></table></div>"
      ],
      "text/plain": [
       "--------------------------  ------------------------------------------------------------------\n",
       "H2O_cluster_uptime:         02 secs\n",
       "H2O_cluster_timezone:       Etc/UTC\n",
       "H2O_data_parsing_timezone:  UTC\n",
       "H2O_cluster_version:        3.34.0.1\n",
       "H2O_cluster_version_age:    19 days\n",
       "H2O_cluster_name:           H2O_from_python_unknownUser_rrwezj\n",
       "H2O_cluster_total_nodes:    1\n",
       "H2O_cluster_free_memory:    16 Gb\n",
       "H2O_cluster_total_cores:    2\n",
       "H2O_cluster_allowed_cores:  2\n",
       "H2O_cluster_status:         locked, healthy\n",
       "H2O_connection_url:         http://127.0.0.1:54321\n",
       "H2O_connection_proxy:       {\"http\": null, \"https\": null}\n",
       "H2O_internal_security:      False\n",
       "H2O_API_Extensions:         Amazon S3, XGBoost, Algos, AutoML, Core V3, TargetEncoder, Core V4\n",
       "Python_version:             3.7.10 final\n",
       "--------------------------  ------------------------------------------------------------------"
      ]
     },
     "metadata": {},
     "output_type": "display_data"
    }
   ],
   "source": [
    "import numpy as np # linear algebra\n",
    "import pandas as pd # data processing, CSV file I/O (e.g. pd.read_csv)\n",
    "import matplotlib.pyplot as plt\n",
    "import seaborn as sns\n",
    "import h2o\n",
    "print(h2o.__version__)\n",
    "from h2o.automl import H2OAutoML\n",
    "\n",
    "h2o.init(max_mem_size='16G')"
   ]
  },
  {
   "cell_type": "code",
   "execution_count": 2,
   "id": "d3b7d24d",
   "metadata": {
    "execution": {
     "iopub.execute_input": "2021-10-04T12:00:14.432990Z",
     "iopub.status.busy": "2021-10-04T12:00:14.432050Z",
     "iopub.status.idle": "2021-10-04T12:00:14.655161Z",
     "shell.execute_reply": "2021-10-04T12:00:14.656272Z",
     "shell.execute_reply.started": "2021-10-04T10:28:49.508784Z"
    },
    "papermill": {
     "duration": 0.261641,
     "end_time": "2021-10-04T12:00:14.656497",
     "exception": false,
     "start_time": "2021-10-04T12:00:14.394856",
     "status": "completed"
    },
    "tags": []
   },
   "outputs": [
    {
     "data": {
      "text/html": [
       "<div>\n",
       "<style scoped>\n",
       "    .dataframe tbody tr th:only-of-type {\n",
       "        vertical-align: middle;\n",
       "    }\n",
       "\n",
       "    .dataframe tbody tr th {\n",
       "        vertical-align: top;\n",
       "    }\n",
       "\n",
       "    .dataframe thead th {\n",
       "        text-align: right;\n",
       "    }\n",
       "</style>\n",
       "<table border=\"1\" class=\"dataframe\">\n",
       "  <thead>\n",
       "    <tr style=\"text-align: right;\">\n",
       "      <th></th>\n",
       "      <th>Datetime</th>\n",
       "      <th>PJME_MW</th>\n",
       "    </tr>\n",
       "  </thead>\n",
       "  <tbody>\n",
       "    <tr>\n",
       "      <th>0</th>\n",
       "      <td>2002-12-31 01:00:00</td>\n",
       "      <td>26498.0</td>\n",
       "    </tr>\n",
       "    <tr>\n",
       "      <th>1</th>\n",
       "      <td>2002-12-31 02:00:00</td>\n",
       "      <td>25147.0</td>\n",
       "    </tr>\n",
       "    <tr>\n",
       "      <th>2</th>\n",
       "      <td>2002-12-31 03:00:00</td>\n",
       "      <td>24574.0</td>\n",
       "    </tr>\n",
       "    <tr>\n",
       "      <th>3</th>\n",
       "      <td>2002-12-31 04:00:00</td>\n",
       "      <td>24393.0</td>\n",
       "    </tr>\n",
       "    <tr>\n",
       "      <th>4</th>\n",
       "      <td>2002-12-31 05:00:00</td>\n",
       "      <td>24860.0</td>\n",
       "    </tr>\n",
       "  </tbody>\n",
       "</table>\n",
       "</div>"
      ],
      "text/plain": [
       "              Datetime  PJME_MW\n",
       "0  2002-12-31 01:00:00  26498.0\n",
       "1  2002-12-31 02:00:00  25147.0\n",
       "2  2002-12-31 03:00:00  24574.0\n",
       "3  2002-12-31 04:00:00  24393.0\n",
       "4  2002-12-31 05:00:00  24860.0"
      ]
     },
     "execution_count": 2,
     "metadata": {},
     "output_type": "execute_result"
    }
   ],
   "source": [
    "#upload the data \n",
    "df = pd.read_csv('../input/hourly-energy-consumption/PJME_hourly.csv')\n",
    "df.head()"
   ]
  },
  {
   "cell_type": "markdown",
   "id": "7130d4c1",
   "metadata": {
    "papermill": {
     "duration": 0.020517,
     "end_time": "2021-10-04T12:00:14.702604",
     "exception": false,
     "start_time": "2021-10-04T12:00:14.682087",
     "status": "completed"
    },
    "tags": []
   },
   "source": [
    "It can be confirmed the dataset has two columns: datetime and consumed energy "
   ]
  },
  {
   "cell_type": "code",
   "execution_count": 3,
   "id": "cd6e4116",
   "metadata": {
    "execution": {
     "iopub.execute_input": "2021-10-04T12:00:14.748050Z",
     "iopub.status.busy": "2021-10-04T12:00:14.747237Z",
     "iopub.status.idle": "2021-10-04T12:00:14.767292Z",
     "shell.execute_reply": "2021-10-04T12:00:14.766824Z",
     "shell.execute_reply.started": "2021-10-04T10:21:28.140194Z"
    },
    "papermill": {
     "duration": 0.043698,
     "end_time": "2021-10-04T12:00:14.767409",
     "exception": false,
     "start_time": "2021-10-04T12:00:14.723711",
     "status": "completed"
    },
    "tags": []
   },
   "outputs": [
    {
     "data": {
      "text/plain": [
       "Datetime    0\n",
       "PJME_MW     0\n",
       "dtype: int64"
      ]
     },
     "execution_count": 3,
     "metadata": {},
     "output_type": "execute_result"
    }
   ],
   "source": [
    "#check for missing values\n",
    "df.isnull().sum()"
   ]
  },
  {
   "cell_type": "markdown",
   "id": "269d1408",
   "metadata": {
    "papermill": {
     "duration": 0.0198,
     "end_time": "2021-10-04T12:00:14.807122",
     "exception": false,
     "start_time": "2021-10-04T12:00:14.787322",
     "status": "completed"
    },
    "tags": []
   },
   "source": [
    "There's no missing values in the data"
   ]
  },
  {
   "cell_type": "code",
   "execution_count": 4,
   "id": "92e40e02",
   "metadata": {
    "execution": {
     "iopub.execute_input": "2021-10-04T12:00:14.851631Z",
     "iopub.status.busy": "2021-10-04T12:00:14.851023Z",
     "iopub.status.idle": "2021-10-04T12:00:15.425371Z",
     "shell.execute_reply": "2021-10-04T12:00:15.424949Z",
     "shell.execute_reply.started": "2021-10-04T10:21:33.488221Z"
    },
    "papermill": {
     "duration": 0.598348,
     "end_time": "2021-10-04T12:00:15.425505",
     "exception": false,
     "start_time": "2021-10-04T12:00:14.827157",
     "status": "completed"
    },
    "tags": []
   },
   "outputs": [
    {
     "data": {
      "image/png": "[encoded data removed]",
      "text/plain": [
       "<Figure size 1080x360 with 1 Axes>"
      ]
     },
     "metadata": {
      "needs_background": "light"
     },
     "output_type": "display_data"
    }
   ],
   "source": [
    "color_pal = [\"#F8766D\", \"#D39200\", \"#93AA00\", \"#00BA38\", \"#00C19F\", \"#00B9E3\", \"#619CFF\", \"#DB72FB\"]\n",
    "_ = df.plot(style='.', figsize=(15,5), color=color_pal[0], title='PJM East')"
   ]
  },
  {
   "cell_type": "markdown",
   "id": "ca9819f2",
   "metadata": {
    "papermill": {
     "duration": 0.021706,
     "end_time": "2021-10-04T12:00:15.469151",
     "exception": false,
     "start_time": "2021-10-04T12:00:15.447445",
     "status": "completed"
    },
    "tags": []
   },
   "source": [
    "## Feature engineering"
   ]
  },
  {
   "cell_type": "code",
   "execution_count": 5,
   "id": "55cd0855",
   "metadata": {
    "execution": {
     "iopub.execute_input": "2021-10-04T12:00:15.562393Z",
     "iopub.status.busy": "2021-10-04T12:00:15.561683Z",
     "iopub.status.idle": "2021-10-04T12:00:15.615487Z",
     "shell.execute_reply": "2021-10-04T12:00:15.615890Z",
     "shell.execute_reply.started": "2021-10-04T10:28:54.205135Z"
    },
    "papermill": {
     "duration": 0.125393,
     "end_time": "2021-10-04T12:00:15.616058",
     "exception": false,
     "start_time": "2021-10-04T12:00:15.490665",
     "status": "completed"
    },
    "tags": []
   },
   "outputs": [],
   "source": [
    "#add time based new features\n",
    "df['date'] = pd.to_datetime(df['Datetime'])\n",
    "df['month'] = df['date'].dt.month\n",
    "df['day'] = df['date'].dt.day\n",
    "df['hour'] = df['date'].dt.hour\n",
    "df['weekday'] = df['date'].dt.weekday\n",
    "df['weekend'] = df['weekday'].isin([5,6]).astype(int)"
   ]
  },
  {
   "cell_type": "code",
   "execution_count": 6,
   "id": "58a9e276",
   "metadata": {
    "execution": {
     "iopub.execute_input": "2021-10-04T12:00:15.669204Z",
     "iopub.status.busy": "2021-10-04T12:00:15.668157Z",
     "iopub.status.idle": "2021-10-04T12:00:15.740053Z",
     "shell.execute_reply": "2021-10-04T12:00:15.739611Z",
     "shell.execute_reply.started": "2021-10-04T10:28:56.89505Z"
    },
    "papermill": {
     "duration": 0.101494,
     "end_time": "2021-10-04T12:00:15.740174",
     "exception": false,
     "start_time": "2021-10-04T12:00:15.638680",
     "status": "completed"
    },
    "tags": []
   },
   "outputs": [],
   "source": [
    "## cyclic transformation on hour\n",
    "df['hour_sin'] = np.sin(2 * np.pi * df['hour']/23.0)\n",
    "df['hour_cos'] = np.cos(2 * np.pi * df['hour']/23.0)\n",
    "## cyclic transformation on date \n",
    "df['date_sin'] = -np.sin(2 * np.pi * (df['month']+df['day']/31)/12)\n",
    "df['date_cos'] = -np.cos(2 * np.pi * (df['month']+df['day']/31)/12)\n",
    "## cyclic transformation on month\n",
    "df['month_sin'] = -np.sin(2 * np.pi * df['month']/12.0)\n",
    "df['month_cos'] = -np.cos(2 * np.pi * df['month']/12.0)\n",
    "## cyclic transformation on weekday\n",
    "df['weekday_sin'] = -np.sin(2 * np.pi * (df['weekday']+1)/7.0)\n",
    "df['weekday_cos'] = -np.cos(2 * np.pi * (df['weekday']+1)/7.0)"
   ]
  },
  {
   "cell_type": "code",
   "execution_count": 7,
   "id": "9a78f773",
   "metadata": {
    "execution": {
     "iopub.execute_input": "2021-10-04T12:00:15.803251Z",
     "iopub.status.busy": "2021-10-04T12:00:15.798223Z",
     "iopub.status.idle": "2021-10-04T12:00:15.814826Z",
     "shell.execute_reply": "2021-10-04T12:00:15.815269Z",
     "shell.execute_reply.started": "2021-10-04T10:28:59.405697Z"
    },
    "papermill": {
     "duration": 0.052882,
     "end_time": "2021-10-04T12:00:15.815395",
     "exception": false,
     "start_time": "2021-10-04T12:00:15.762513",
     "status": "completed"
    },
    "tags": []
   },
   "outputs": [
    {
     "data": {
      "text/html": [
       "<div>\n",
       "<style scoped>\n",
       "    .dataframe tbody tr th:only-of-type {\n",
       "        vertical-align: middle;\n",
       "    }\n",
       "\n",
       "    .dataframe tbody tr th {\n",
       "        vertical-align: top;\n",
       "    }\n",
       "\n",
       "    .dataframe thead th {\n",
       "        text-align: right;\n",
       "    }\n",
       "</style>\n",
       "<table border=\"1\" class=\"dataframe\">\n",
       "  <thead>\n",
       "    <tr style=\"text-align: right;\">\n",
       "      <th></th>\n",
       "      <th>Datetime</th>\n",
       "      <th>PJME_MW</th>\n",
       "      <th>date</th>\n",
       "      <th>month</th>\n",
       "      <th>day</th>\n",
       "      <th>hour</th>\n",
       "      <th>weekday</th>\n",
       "      <th>weekend</th>\n",
       "      <th>hour_sin</th>\n",
       "      <th>hour_cos</th>\n",
       "      <th>date_sin</th>\n",
       "      <th>date_cos</th>\n",
       "      <th>month_sin</th>\n",
       "      <th>month_cos</th>\n",
       "      <th>weekday_sin</th>\n",
       "      <th>weekday_cos</th>\n",
       "    </tr>\n",
       "  </thead>\n",
       "  <tbody>\n",
       "    <tr>\n",
       "      <th>0</th>\n",
       "      <td>2002-12-31 01:00:00</td>\n",
       "      <td>26498.0</td>\n",
       "      <td>2002-12-31 01:00:00</td>\n",
       "      <td>12</td>\n",
       "      <td>31</td>\n",
       "      <td>1</td>\n",
       "      <td>1</td>\n",
       "      <td>0</td>\n",
       "      <td>2.697968e-01</td>\n",
       "      <td>0.962917</td>\n",
       "      <td>-0.500000</td>\n",
       "      <td>-0.866025</td>\n",
       "      <td>2.449294e-16</td>\n",
       "      <td>-1.000000</td>\n",
       "      <td>-0.974928</td>\n",
       "      <td>0.222521</td>\n",
       "    </tr>\n",
       "    <tr>\n",
       "      <th>1</th>\n",
       "      <td>2002-12-31 02:00:00</td>\n",
       "      <td>25147.0</td>\n",
       "      <td>2002-12-31 02:00:00</td>\n",
       "      <td>12</td>\n",
       "      <td>31</td>\n",
       "      <td>2</td>\n",
       "      <td>1</td>\n",
       "      <td>0</td>\n",
       "      <td>5.195840e-01</td>\n",
       "      <td>0.854419</td>\n",
       "      <td>-0.500000</td>\n",
       "      <td>-0.866025</td>\n",
       "      <td>2.449294e-16</td>\n",
       "      <td>-1.000000</td>\n",
       "      <td>-0.974928</td>\n",
       "      <td>0.222521</td>\n",
       "    </tr>\n",
       "    <tr>\n",
       "      <th>2</th>\n",
       "      <td>2002-12-31 03:00:00</td>\n",
       "      <td>24574.0</td>\n",
       "      <td>2002-12-31 03:00:00</td>\n",
       "      <td>12</td>\n",
       "      <td>31</td>\n",
       "      <td>3</td>\n",
       "      <td>1</td>\n",
       "      <td>0</td>\n",
       "      <td>7.308360e-01</td>\n",
       "      <td>0.682553</td>\n",
       "      <td>-0.500000</td>\n",
       "      <td>-0.866025</td>\n",
       "      <td>2.449294e-16</td>\n",
       "      <td>-1.000000</td>\n",
       "      <td>-0.974928</td>\n",
       "      <td>0.222521</td>\n",
       "    </tr>\n",
       "    <tr>\n",
       "      <th>3</th>\n",
       "      <td>2002-12-31 04:00:00</td>\n",
       "      <td>24393.0</td>\n",
       "      <td>2002-12-31 04:00:00</td>\n",
       "      <td>12</td>\n",
       "      <td>31</td>\n",
       "      <td>4</td>\n",
       "      <td>1</td>\n",
       "      <td>0</td>\n",
       "      <td>8.878852e-01</td>\n",
       "      <td>0.460065</td>\n",
       "      <td>-0.500000</td>\n",
       "      <td>-0.866025</td>\n",
       "      <td>2.449294e-16</td>\n",
       "      <td>-1.000000</td>\n",
       "      <td>-0.974928</td>\n",
       "      <td>0.222521</td>\n",
       "    </tr>\n",
       "    <tr>\n",
       "      <th>4</th>\n",
       "      <td>2002-12-31 05:00:00</td>\n",
       "      <td>24860.0</td>\n",
       "      <td>2002-12-31 05:00:00</td>\n",
       "      <td>12</td>\n",
       "      <td>31</td>\n",
       "      <td>5</td>\n",
       "      <td>1</td>\n",
       "      <td>0</td>\n",
       "      <td>9.790841e-01</td>\n",
       "      <td>0.203456</td>\n",
       "      <td>-0.500000</td>\n",
       "      <td>-0.866025</td>\n",
       "      <td>2.449294e-16</td>\n",
       "      <td>-1.000000</td>\n",
       "      <td>-0.974928</td>\n",
       "      <td>0.222521</td>\n",
       "    </tr>\n",
       "    <tr>\n",
       "      <th>...</th>\n",
       "      <td>...</td>\n",
       "      <td>...</td>\n",
       "      <td>...</td>\n",
       "      <td>...</td>\n",
       "      <td>...</td>\n",
       "      <td>...</td>\n",
       "      <td>...</td>\n",
       "      <td>...</td>\n",
       "      <td>...</td>\n",
       "      <td>...</td>\n",
       "      <td>...</td>\n",
       "      <td>...</td>\n",
       "      <td>...</td>\n",
       "      <td>...</td>\n",
       "      <td>...</td>\n",
       "      <td>...</td>\n",
       "    </tr>\n",
       "    <tr>\n",
       "      <th>145361</th>\n",
       "      <td>2018-01-01 20:00:00</td>\n",
       "      <td>44284.0</td>\n",
       "      <td>2018-01-01 20:00:00</td>\n",
       "      <td>1</td>\n",
       "      <td>1</td>\n",
       "      <td>20</td>\n",
       "      <td>0</td>\n",
       "      <td>0</td>\n",
       "      <td>-7.308360e-01</td>\n",
       "      <td>0.682553</td>\n",
       "      <td>-0.514555</td>\n",
       "      <td>-0.857457</td>\n",
       "      <td>-5.000000e-01</td>\n",
       "      <td>-0.866025</td>\n",
       "      <td>-0.781831</td>\n",
       "      <td>-0.623490</td>\n",
       "    </tr>\n",
       "    <tr>\n",
       "      <th>145362</th>\n",
       "      <td>2018-01-01 21:00:00</td>\n",
       "      <td>43751.0</td>\n",
       "      <td>2018-01-01 21:00:00</td>\n",
       "      <td>1</td>\n",
       "      <td>1</td>\n",
       "      <td>21</td>\n",
       "      <td>0</td>\n",
       "      <td>0</td>\n",
       "      <td>-5.195840e-01</td>\n",
       "      <td>0.854419</td>\n",
       "      <td>-0.514555</td>\n",
       "      <td>-0.857457</td>\n",
       "      <td>-5.000000e-01</td>\n",
       "      <td>-0.866025</td>\n",
       "      <td>-0.781831</td>\n",
       "      <td>-0.623490</td>\n",
       "    </tr>\n",
       "    <tr>\n",
       "      <th>145363</th>\n",
       "      <td>2018-01-01 22:00:00</td>\n",
       "      <td>42402.0</td>\n",
       "      <td>2018-01-01 22:00:00</td>\n",
       "      <td>1</td>\n",
       "      <td>1</td>\n",
       "      <td>22</td>\n",
       "      <td>0</td>\n",
       "      <td>0</td>\n",
       "      <td>-2.697968e-01</td>\n",
       "      <td>0.962917</td>\n",
       "      <td>-0.514555</td>\n",
       "      <td>-0.857457</td>\n",
       "      <td>-5.000000e-01</td>\n",
       "      <td>-0.866025</td>\n",
       "      <td>-0.781831</td>\n",
       "      <td>-0.623490</td>\n",
       "    </tr>\n",
       "    <tr>\n",
       "      <th>145364</th>\n",
       "      <td>2018-01-01 23:00:00</td>\n",
       "      <td>40164.0</td>\n",
       "      <td>2018-01-01 23:00:00</td>\n",
       "      <td>1</td>\n",
       "      <td>1</td>\n",
       "      <td>23</td>\n",
       "      <td>0</td>\n",
       "      <td>0</td>\n",
       "      <td>-2.449294e-16</td>\n",
       "      <td>1.000000</td>\n",
       "      <td>-0.514555</td>\n",
       "      <td>-0.857457</td>\n",
       "      <td>-5.000000e-01</td>\n",
       "      <td>-0.866025</td>\n",
       "      <td>-0.781831</td>\n",
       "      <td>-0.623490</td>\n",
       "    </tr>\n",
       "    <tr>\n",
       "      <th>145365</th>\n",
       "      <td>2018-01-02 00:00:00</td>\n",
       "      <td>38608.0</td>\n",
       "      <td>2018-01-02 00:00:00</td>\n",
       "      <td>1</td>\n",
       "      <td>2</td>\n",
       "      <td>0</td>\n",
       "      <td>1</td>\n",
       "      <td>0</td>\n",
       "      <td>0.000000e+00</td>\n",
       "      <td>1.000000</td>\n",
       "      <td>-0.528964</td>\n",
       "      <td>-0.848644</td>\n",
       "      <td>-5.000000e-01</td>\n",
       "      <td>-0.866025</td>\n",
       "      <td>-0.974928</td>\n",
       "      <td>0.222521</td>\n",
       "    </tr>\n",
       "  </tbody>\n",
       "</table>\n",
       "<p>145366 rows × 16 columns</p>\n",
       "</div>"
      ],
      "text/plain": [
       "                   Datetime  PJME_MW                date  month  day  hour  \\\n",
       "0       2002-12-31 01:00:00  26498.0 2002-12-31 01:00:00     12   31     1   \n",
       "1       2002-12-31 02:00:00  25147.0 2002-12-31 02:00:00     12   31     2   \n",
       "2       2002-12-31 03:00:00  24574.0 2002-12-31 03:00:00     12   31     3   \n",
       "3       2002-12-31 04:00:00  24393.0 2002-12-31 04:00:00     12   31     4   \n",
       "4       2002-12-31 05:00:00  24860.0 2002-12-31 05:00:00     12   31     5   \n",
       "...                     ...      ...                 ...    ...  ...   ...   \n",
       "145361  2018-01-01 20:00:00  44284.0 2018-01-01 20:00:00      1    1    20   \n",
       "145362  2018-01-01 21:00:00  43751.0 2018-01-01 21:00:00      1    1    21   \n",
       "145363  2018-01-01 22:00:00  42402.0 2018-01-01 22:00:00      1    1    22   \n",
       "145364  2018-01-01 23:00:00  40164.0 2018-01-01 23:00:00      1    1    23   \n",
       "145365  2018-01-02 00:00:00  38608.0 2018-01-02 00:00:00      1    2     0   \n",
       "\n",
       "        weekday  weekend      hour_sin  hour_cos  date_sin  date_cos  \\\n",
       "0             1        0  2.697968e-01  0.962917 -0.500000 -0.866025   \n",
       "1             1        0  5.195840e-01  0.854419 -0.500000 -0.866025   \n",
       "2             1        0  7.308360e-01  0.682553 -0.500000 -0.866025   \n",
       "3             1        0  8.878852e-01  0.460065 -0.500000 -0.866025   \n",
       "4             1        0  9.790841e-01  0.203456 -0.500000 -0.866025   \n",
       "...         ...      ...           ...       ...       ...       ...   \n",
       "145361        0        0 -7.308360e-01  0.682553 -0.514555 -0.857457   \n",
       "145362        0        0 -5.195840e-01  0.854419 -0.514555 -0.857457   \n",
       "145363        0        0 -2.697968e-01  0.962917 -0.514555 -0.857457   \n",
       "145364        0        0 -2.449294e-16  1.000000 -0.514555 -0.857457   \n",
       "145365        1        0  0.000000e+00  1.000000 -0.528964 -0.848644   \n",
       "\n",
       "           month_sin  month_cos  weekday_sin  weekday_cos  \n",
       "0       2.449294e-16  -1.000000    -0.974928     0.222521  \n",
       "1       2.449294e-16  -1.000000    -0.974928     0.222521  \n",
       "2       2.449294e-16  -1.000000    -0.974928     0.222521  \n",
       "3       2.449294e-16  -1.000000    -0.974928     0.222521  \n",
       "4       2.449294e-16  -1.000000    -0.974928     0.222521  \n",
       "...              ...        ...          ...          ...  \n",
       "145361 -5.000000e-01  -0.866025    -0.781831    -0.623490  \n",
       "145362 -5.000000e-01  -0.866025    -0.781831    -0.623490  \n",
       "145363 -5.000000e-01  -0.866025    -0.781831    -0.623490  \n",
       "145364 -5.000000e-01  -0.866025    -0.781831    -0.623490  \n",
       "145365 -5.000000e-01  -0.866025    -0.974928     0.222521  \n",
       "\n",
       "[145366 rows x 16 columns]"
      ]
     },
     "execution_count": 7,
     "metadata": {},
     "output_type": "execute_result"
    }
   ],
   "source": [
    "df"
   ]
  },
  {
   "cell_type": "code",
   "execution_count": 8,
   "id": "3f34bbad",
   "metadata": {
    "execution": {
     "iopub.execute_input": "2021-10-04T12:00:15.865710Z",
     "iopub.status.busy": "2021-10-04T12:00:15.865203Z",
     "iopub.status.idle": "2021-10-04T12:00:15.884032Z",
     "shell.execute_reply": "2021-10-04T12:00:15.883562Z",
     "shell.execute_reply.started": "2021-10-04T10:30:37.854376Z"
    },
    "papermill": {
     "duration": 0.045245,
     "end_time": "2021-10-04T12:00:15.884153",
     "exception": false,
     "start_time": "2021-10-04T12:00:15.838908",
     "status": "completed"
    },
    "tags": []
   },
   "outputs": [],
   "source": [
    "#drop unnecessary columns \n",
    "df.drop(['Datetime', 'hour'], axis=1, inplace=True)"
   ]
  },
  {
   "cell_type": "code",
   "execution_count": 9,
   "id": "f3ac000d",
   "metadata": {
    "execution": {
     "iopub.execute_input": "2021-10-04T12:00:15.965376Z",
     "iopub.status.busy": "2021-10-04T12:00:15.964480Z",
     "iopub.status.idle": "2021-10-04T12:00:15.995713Z",
     "shell.execute_reply": "2021-10-04T12:00:15.995220Z",
     "shell.execute_reply.started": "2021-10-04T10:30:57.719468Z"
    },
    "papermill": {
     "duration": 0.077756,
     "end_time": "2021-10-04T12:00:15.995831",
     "exception": false,
     "start_time": "2021-10-04T12:00:15.918075",
     "status": "completed"
    },
    "tags": []
   },
   "outputs": [],
   "source": [
    "#Split the data into train and test. The last two months data is left for testing.\n",
    "df_train = df[df['date'] <= '2017-10-30 00:00:00'].reset_index(drop=True)\n",
    "df_test = df[df['date'] > '2017-10-30 00:00:00'].reset_index(drop=True)"
   ]
  },
  {
   "cell_type": "code",
   "execution_count": 10,
   "id": "4c28c1f0",
   "metadata": {
    "execution": {
     "iopub.execute_input": "2021-10-04T12:00:16.092581Z",
     "iopub.status.busy": "2021-10-04T12:00:16.091651Z",
     "iopub.status.idle": "2021-10-04T12:00:27.427187Z",
     "shell.execute_reply": "2021-10-04T12:00:27.427981Z",
     "shell.execute_reply.started": "2021-10-04T10:31:06.648906Z"
    },
    "papermill": {
     "duration": 11.394079,
     "end_time": "2021-10-04T12:00:27.428214",
     "exception": false,
     "start_time": "2021-10-04T12:00:16.034135",
     "status": "completed"
    },
    "tags": []
   },
   "outputs": [
    {
     "name": "stdout",
     "output_type": "stream",
     "text": [
      "Parse progress: |████████████████████████████████████████████████████████████████| (done) 100%\n",
      "Parse progress: |████████████████████████████████████████████████████████████████| (done) 100%\n"
     ]
    }
   ],
   "source": [
    "#convert the data into h2o frame\n",
    "train = h2o.H2OFrame(df_train)\n",
    "test = h2o.H2OFrame(df_test)"
   ]
  },
  {
   "cell_type": "code",
   "execution_count": 11,
   "id": "3ea51d42",
   "metadata": {
    "execution": {
     "iopub.execute_input": "2021-10-04T12:00:27.563091Z",
     "iopub.status.busy": "2021-10-04T12:00:27.562233Z",
     "iopub.status.idle": "2021-10-04T12:00:27.564338Z",
     "shell.execute_reply": "2021-10-04T12:00:27.565072Z",
     "shell.execute_reply.started": "2021-10-04T10:31:43.815865Z"
    },
    "papermill": {
     "duration": 0.072104,
     "end_time": "2021-10-04T12:00:27.565255",
     "exception": false,
     "start_time": "2021-10-04T12:00:27.493151",
     "status": "completed"
    },
    "tags": []
   },
   "outputs": [],
   "source": [
    "#set x and y\n",
    "x = train.columns\n",
    "y = 'PJME_MW'\n",
    "x.remove(y)"
   ]
  },
  {
   "cell_type": "markdown",
   "id": "6b280938",
   "metadata": {
    "papermill": {
     "duration": 0.038517,
     "end_time": "2021-10-04T12:00:27.646680",
     "exception": false,
     "start_time": "2021-10-04T12:00:27.608163",
     "status": "completed"
    },
    "tags": []
   },
   "source": [
    "Build H2OAutoML model and start training"
   ]
  },
  {
   "cell_type": "code",
   "execution_count": 12,
   "id": "2ade8ceb",
   "metadata": {
    "execution": {
     "iopub.execute_input": "2021-10-04T12:00:27.733219Z",
     "iopub.status.busy": "2021-10-04T12:00:27.732398Z",
     "iopub.status.idle": "2021-10-04T12:58:51.149228Z",
     "shell.execute_reply": "2021-10-04T12:58:51.150227Z",
     "shell.execute_reply.started": "2021-10-04T10:32:04.764355Z"
    },
    "papermill": {
     "duration": 3503.463841,
     "end_time": "2021-10-04T12:58:51.150454",
     "exception": false,
     "start_time": "2021-10-04T12:00:27.686613",
     "status": "completed"
    },
    "tags": []
   },
   "outputs": [
    {
     "name": "stdout",
     "output_type": "stream",
     "text": [
      "AutoML progress: |███████████████████████████████████████████████████████████████| (done) 100%\n",
      "Model Details\n",
      "=============\n",
      "H2OStackedEnsembleEstimator :  Stacked Ensemble\n",
      "Model Key:  StackedEnsemble_AllModels_3_AutoML_1_20211004_120027\n",
      "\n",
      "No model summary for this model\n",
      "\n",
      "ModelMetricsRegressionGLM: stackedensemble\n",
      "** Reported on train data. **\n",
      "\n",
      "MSE: 74511.17538525061\n",
      "RMSE: 272.9673522332856\n",
      "MAE: 199.5868258612654\n",
      "RMSLE: 0.008589749691822066\n",
      "R^2: 0.9982387767431291\n",
      "Mean Residual Deviance: 74511.17538525061\n",
      "Null degrees of freedom: 9985\n",
      "Residual degrees of freedom: 9982\n",
      "Null deviance: 422627377773.8887\n",
      "Residual deviance: 744068597.3971126\n",
      "AIC: 140379.02250647917\n",
      "\n",
      "ModelMetricsRegressionGLM: stackedensemble\n",
      "** Reported on cross-validation data. **\n",
      "\n",
      "MSE: 426182.6895715847\n",
      "RMSE: 652.8266918345057\n",
      "MAE: 474.8457926644606\n",
      "RMSLE: 0.02006849600647352\n",
      "R^2: 0.9898712830720993\n",
      "Mean Residual Deviance: 426182.6895715847\n",
      "Null degrees of freedom: 138717\n",
      "Residual degrees of freedom: 138714\n",
      "Null deviance: 5836862131892.482\n",
      "Residual deviance: 59119210331.99109\n",
      "AIC: 2191823.8212137874\n"
     ]
    },
    {
     "data": {
      "text/plain": []
     },
     "execution_count": 12,
     "metadata": {},
     "output_type": "execute_result"
    }
   ],
   "source": [
    "aml = H2OAutoML(max_runtime_secs = 3500, seed = 1, project_name = \"PJME_MW\")\n",
    "aml.train(x = x, y = y, training_frame = train)"
   ]
  },
  {
   "cell_type": "code",
   "execution_count": 13,
   "id": "4b707371",
   "metadata": {
    "execution": {
     "iopub.execute_input": "2021-10-04T12:58:51.330797Z",
     "iopub.status.busy": "2021-10-04T12:58:51.329999Z",
     "iopub.status.idle": "2021-10-04T12:58:51.395688Z",
     "shell.execute_reply": "2021-10-04T12:58:51.396670Z",
     "shell.execute_reply.started": "2021-10-04T11:32:23.098749Z"
    },
    "papermill": {
     "duration": 0.161984,
     "end_time": "2021-10-04T12:58:51.396865",
     "exception": false,
     "start_time": "2021-10-04T12:58:51.234881",
     "status": "completed"
    },
    "tags": []
   },
   "outputs": [
    {
     "data": {
      "text/html": [
       "<table>\n",
       "<thead>\n",
       "<tr><th>model_id                                               </th><th style=\"text-align: right;\">  mean_residual_deviance</th><th style=\"text-align: right;\">   rmse</th><th style=\"text-align: right;\">   mse</th><th style=\"text-align: right;\">    mae</th><th style=\"text-align: right;\">    rmsle</th></tr>\n",
       "</thead>\n",
       "<tbody>\n",
       "<tr><td>StackedEnsemble_AllModels_3_AutoML_1_20211004_120027   </td><td style=\"text-align: right;\">                  426183</td><td style=\"text-align: right;\">652.827</td><td style=\"text-align: right;\">426183</td><td style=\"text-align: right;\">474.846</td><td style=\"text-align: right;\">0.0200685</td></tr>\n",
       "<tr><td>StackedEnsemble_AllModels_4_AutoML_1_20211004_120027   </td><td style=\"text-align: right;\">                  426206</td><td style=\"text-align: right;\">652.844</td><td style=\"text-align: right;\">426206</td><td style=\"text-align: right;\">474.854</td><td style=\"text-align: right;\">0.020069 </td></tr>\n",
       "<tr><td>StackedEnsemble_AllModels_2_AutoML_1_20211004_120027   </td><td style=\"text-align: right;\">                  436998</td><td style=\"text-align: right;\">661.058</td><td style=\"text-align: right;\">436998</td><td style=\"text-align: right;\">481.31 </td><td style=\"text-align: right;\">0.0203172</td></tr>\n",
       "<tr><td>StackedEnsemble_AllModels_1_AutoML_1_20211004_120027   </td><td style=\"text-align: right;\">                  437016</td><td style=\"text-align: right;\">661.072</td><td style=\"text-align: right;\">437016</td><td style=\"text-align: right;\">481.311</td><td style=\"text-align: right;\">0.0203174</td></tr>\n",
       "<tr><td>StackedEnsemble_BestOfFamily_3_AutoML_1_20211004_120027</td><td style=\"text-align: right;\">                  459968</td><td style=\"text-align: right;\">678.209</td><td style=\"text-align: right;\">459968</td><td style=\"text-align: right;\">494.322</td><td style=\"text-align: right;\">0.0208203</td></tr>\n",
       "<tr><td>StackedEnsemble_BestOfFamily_2_AutoML_1_20211004_120027</td><td style=\"text-align: right;\">                  459971</td><td style=\"text-align: right;\">678.212</td><td style=\"text-align: right;\">459971</td><td style=\"text-align: right;\">494.32 </td><td style=\"text-align: right;\">0.0208203</td></tr>\n",
       "<tr><td>StackedEnsemble_BestOfFamily_1_AutoML_1_20211004_120027</td><td style=\"text-align: right;\">                  464364</td><td style=\"text-align: right;\">681.443</td><td style=\"text-align: right;\">464364</td><td style=\"text-align: right;\">496.655</td><td style=\"text-align: right;\">0.0209198</td></tr>\n",
       "<tr><td>XGBoost_1_AutoML_1_20211004_120027                     </td><td style=\"text-align: right;\">                  466199</td><td style=\"text-align: right;\">682.788</td><td style=\"text-align: right;\">466199</td><td style=\"text-align: right;\">497.901</td><td style=\"text-align: right;\">0.0209805</td></tr>\n",
       "<tr><td>XGBoost_2_AutoML_1_20211004_120027                     </td><td style=\"text-align: right;\">                  643176</td><td style=\"text-align: right;\">801.983</td><td style=\"text-align: right;\">643176</td><td style=\"text-align: right;\">596.879</td><td style=\"text-align: right;\">0.0245864</td></tr>\n",
       "<tr><td>XGBoost_grid_1_AutoML_1_20211004_120027_model_1        </td><td style=\"text-align: right;\">                  690743</td><td style=\"text-align: right;\">831.11 </td><td style=\"text-align: right;\">690743</td><td style=\"text-align: right;\">582.929</td><td style=\"text-align: right;\">0.0256091</td></tr>\n",
       "</tbody>\n",
       "</table>"
      ]
     },
     "metadata": {},
     "output_type": "display_data"
    },
    {
     "data": {
      "text/plain": []
     },
     "execution_count": 13,
     "metadata": {},
     "output_type": "execute_result"
    }
   ],
   "source": [
    "#extract the leaderboard \n",
    "lb = aml.leaderboard\n",
    "lb.head()"
   ]
  },
  {
   "cell_type": "code",
   "execution_count": 14,
   "id": "25129b4a",
   "metadata": {
    "execution": {
     "iopub.execute_input": "2021-10-04T12:58:51.587754Z",
     "iopub.status.busy": "2021-10-04T12:58:51.587017Z",
     "iopub.status.idle": "2021-10-04T12:58:51.603899Z",
     "shell.execute_reply": "2021-10-04T12:58:51.605134Z",
     "shell.execute_reply.started": "2021-10-04T11:32:46.703222Z"
    },
    "papermill": {
     "duration": 0.12316,
     "end_time": "2021-10-04T12:58:51.605337",
     "exception": false,
     "start_time": "2021-10-04T12:58:51.482177",
     "status": "completed"
    },
    "tags": []
   },
   "outputs": [
    {
     "name": "stdout",
     "output_type": "stream",
     "text": [
      "Model Details\n",
      "=============\n",
      "H2OStackedEnsembleEstimator :  Stacked Ensemble\n",
      "Model Key:  StackedEnsemble_AllModels_3_AutoML_1_20211004_120027\n",
      "\n",
      "No model summary for this model\n",
      "\n",
      "ModelMetricsRegressionGLM: stackedensemble\n",
      "** Reported on train data. **\n",
      "\n",
      "MSE: 74511.17538525061\n",
      "RMSE: 272.9673522332856\n",
      "MAE: 199.5868258612654\n",
      "RMSLE: 0.008589749691822066\n",
      "R^2: 0.9982387767431291\n",
      "Mean Residual Deviance: 74511.17538525061\n",
      "Null degrees of freedom: 9985\n",
      "Residual degrees of freedom: 9982\n",
      "Null deviance: 422627377773.8887\n",
      "Residual deviance: 744068597.3971126\n",
      "AIC: 140379.02250647917\n",
      "\n",
      "ModelMetricsRegressionGLM: stackedensemble\n",
      "** Reported on cross-validation data. **\n",
      "\n",
      "MSE: 426182.6895715847\n",
      "RMSE: 652.8266918345057\n",
      "MAE: 474.8457926644606\n",
      "RMSLE: 0.02006849600647352\n",
      "R^2: 0.9898712830720993\n",
      "Mean Residual Deviance: 426182.6895715847\n",
      "Null degrees of freedom: 138717\n",
      "Residual degrees of freedom: 138714\n",
      "Null deviance: 5836862131892.482\n",
      "Residual deviance: 59119210331.99109\n",
      "AIC: 2191823.8212137874\n"
     ]
    },
    {
     "data": {
      "text/plain": []
     },
     "execution_count": 14,
     "metadata": {},
     "output_type": "execute_result"
    }
   ],
   "source": [
    "# The leader model is stored here\n",
    "aml.leader"
   ]
  },
  {
   "cell_type": "markdown",
   "id": "2d3f2139",
   "metadata": {
    "papermill": {
     "duration": 0.0563,
     "end_time": "2021-10-04T12:58:51.753067",
     "exception": false,
     "start_time": "2021-10-04T12:58:51.696767",
     "status": "completed"
    },
    "tags": []
   },
   "source": [
    "## Prediction with the leader model"
   ]
  },
  {
   "cell_type": "code",
   "execution_count": 15,
   "id": "b6e4ae88",
   "metadata": {
    "execution": {
     "iopub.execute_input": "2021-10-04T12:58:51.870258Z",
     "iopub.status.busy": "2021-10-04T12:58:51.869416Z",
     "iopub.status.idle": "2021-10-04T12:58:51.871878Z",
     "shell.execute_reply": "2021-10-04T12:58:51.871480Z",
     "shell.execute_reply.started": "2021-10-04T11:34:51.05428Z"
    },
    "papermill": {
     "duration": 0.062284,
     "end_time": "2021-10-04T12:58:51.872006",
     "exception": false,
     "start_time": "2021-10-04T12:58:51.809722",
     "status": "completed"
    },
    "tags": []
   },
   "outputs": [],
   "source": [
    "#prepare the test data\n",
    "test_x = test.drop('PJME_MW', axis=1)"
   ]
  },
  {
   "cell_type": "code",
   "execution_count": 16,
   "id": "7de4377d",
   "metadata": {
    "execution": {
     "iopub.execute_input": "2021-10-04T12:58:51.986636Z",
     "iopub.status.busy": "2021-10-04T12:58:51.985839Z",
     "iopub.status.idle": "2021-10-04T12:58:52.730341Z",
     "shell.execute_reply": "2021-10-04T12:58:52.732270Z",
     "shell.execute_reply.started": "2021-10-04T11:35:46.758189Z"
    },
    "papermill": {
     "duration": 0.804972,
     "end_time": "2021-10-04T12:58:52.732497",
     "exception": false,
     "start_time": "2021-10-04T12:58:51.927525",
     "status": "completed"
    },
    "tags": []
   },
   "outputs": [
    {
     "name": "stdout",
     "output_type": "stream",
     "text": [
      "stackedensemble prediction progress: |███████████████████████████████████████████| (done) 100%\n"
     ]
    },
    {
     "data": {
      "text/html": [
       "<table>\n",
       "<thead>\n",
       "<tr><th style=\"text-align: right;\">  predict</th></tr>\n",
       "</thead>\n",
       "<tbody>\n",
       "<tr><td style=\"text-align: right;\">  26773.2</td></tr>\n",
       "<tr><td style=\"text-align: right;\">  24862.7</td></tr>\n",
       "<tr><td style=\"text-align: right;\">  24836.6</td></tr>\n",
       "<tr><td style=\"text-align: right;\">  24672.1</td></tr>\n",
       "<tr><td style=\"text-align: right;\">  24783.3</td></tr>\n",
       "<tr><td style=\"text-align: right;\">  25303.5</td></tr>\n",
       "<tr><td style=\"text-align: right;\">  25703.5</td></tr>\n",
       "<tr><td style=\"text-align: right;\">  25879.9</td></tr>\n",
       "<tr><td style=\"text-align: right;\">  26870.2</td></tr>\n",
       "<tr><td style=\"text-align: right;\">  27921.3</td></tr>\n",
       "</tbody>\n",
       "</table>"
      ]
     },
     "metadata": {},
     "output_type": "display_data"
    },
    {
     "data": {
      "text/plain": []
     },
     "execution_count": 16,
     "metadata": {},
     "output_type": "execute_result"
    }
   ],
   "source": [
    "#make predictions on the test data\n",
    "pred = aml.predict(test_x)\n",
    "pred.head()"
   ]
  },
  {
   "cell_type": "code",
   "execution_count": 17,
   "id": "c4ce028f",
   "metadata": {
    "execution": {
     "iopub.execute_input": "2021-10-04T12:58:52.924357Z",
     "iopub.status.busy": "2021-10-04T12:58:52.923441Z",
     "iopub.status.idle": "2021-10-04T12:58:53.102720Z",
     "shell.execute_reply": "2021-10-04T12:58:53.103500Z",
     "shell.execute_reply.started": "2021-10-04T11:52:56.290645Z"
    },
    "papermill": {
     "duration": 0.284124,
     "end_time": "2021-10-04T12:58:53.103660",
     "exception": false,
     "start_time": "2021-10-04T12:58:52.819536",
     "status": "completed"
    },
    "tags": []
   },
   "outputs": [],
   "source": [
    "#make comparison df\n",
    "result_comparison = test[['date', 'PJME_MW']]\n",
    "result_comparison['predictions'] = pred\n",
    "#convert h2o df into pandas df\n",
    "result_comparison = h2o.as_list(result_comparison)\n",
    "result_comparison[\"date\"] = pd.to_datetime(result_comparison[\"date\"],unit='ms')"
   ]
  },
  {
   "cell_type": "code",
   "execution_count": 18,
   "id": "f3e232cb",
   "metadata": {
    "execution": {
     "iopub.execute_input": "2021-10-04T12:58:53.290788Z",
     "iopub.status.busy": "2021-10-04T12:58:53.289767Z",
     "iopub.status.idle": "2021-10-04T12:58:53.299499Z",
     "shell.execute_reply": "2021-10-04T12:58:53.300280Z",
     "shell.execute_reply.started": "2021-10-04T11:53:08.324902Z"
    },
    "papermill": {
     "duration": 0.106209,
     "end_time": "2021-10-04T12:58:53.300479",
     "exception": false,
     "start_time": "2021-10-04T12:58:53.194270",
     "status": "completed"
    },
    "tags": []
   },
   "outputs": [
    {
     "data": {
      "text/html": [
       "<div>\n",
       "<style scoped>\n",
       "    .dataframe tbody tr th:only-of-type {\n",
       "        vertical-align: middle;\n",
       "    }\n",
       "\n",
       "    .dataframe tbody tr th {\n",
       "        vertical-align: top;\n",
       "    }\n",
       "\n",
       "    .dataframe thead th {\n",
       "        text-align: right;\n",
       "    }\n",
       "</style>\n",
       "<table border=\"1\" class=\"dataframe\">\n",
       "  <thead>\n",
       "    <tr style=\"text-align: right;\">\n",
       "      <th></th>\n",
       "      <th>date</th>\n",
       "      <th>PJME_MW</th>\n",
       "      <th>predictions</th>\n",
       "    </tr>\n",
       "  </thead>\n",
       "  <tbody>\n",
       "    <tr>\n",
       "      <th>0</th>\n",
       "      <td>2017-12-31 01:00:00</td>\n",
       "      <td>35242</td>\n",
       "      <td>26773.232602</td>\n",
       "    </tr>\n",
       "    <tr>\n",
       "      <th>1</th>\n",
       "      <td>2017-12-31 02:00:00</td>\n",
       "      <td>34410</td>\n",
       "      <td>24862.690655</td>\n",
       "    </tr>\n",
       "    <tr>\n",
       "      <th>2</th>\n",
       "      <td>2017-12-31 03:00:00</td>\n",
       "      <td>34150</td>\n",
       "      <td>24836.608214</td>\n",
       "    </tr>\n",
       "    <tr>\n",
       "      <th>3</th>\n",
       "      <td>2017-12-31 04:00:00</td>\n",
       "      <td>34220</td>\n",
       "      <td>24672.140229</td>\n",
       "    </tr>\n",
       "    <tr>\n",
       "      <th>4</th>\n",
       "      <td>2017-12-31 05:00:00</td>\n",
       "      <td>34627</td>\n",
       "      <td>24783.275318</td>\n",
       "    </tr>\n",
       "    <tr>\n",
       "      <th>5</th>\n",
       "      <td>2017-12-31 06:00:00</td>\n",
       "      <td>35438</td>\n",
       "      <td>25303.494959</td>\n",
       "    </tr>\n",
       "    <tr>\n",
       "      <th>6</th>\n",
       "      <td>2017-12-31 07:00:00</td>\n",
       "      <td>36615</td>\n",
       "      <td>25703.451829</td>\n",
       "    </tr>\n",
       "    <tr>\n",
       "      <th>7</th>\n",
       "      <td>2017-12-31 08:00:00</td>\n",
       "      <td>37612</td>\n",
       "      <td>25879.924122</td>\n",
       "    </tr>\n",
       "    <tr>\n",
       "      <th>8</th>\n",
       "      <td>2017-12-31 09:00:00</td>\n",
       "      <td>38435</td>\n",
       "      <td>26870.155888</td>\n",
       "    </tr>\n",
       "    <tr>\n",
       "      <th>9</th>\n",
       "      <td>2017-12-31 10:00:00</td>\n",
       "      <td>38803</td>\n",
       "      <td>27921.280727</td>\n",
       "    </tr>\n",
       "    <tr>\n",
       "      <th>10</th>\n",
       "      <td>2017-12-31 11:00:00</td>\n",
       "      <td>39375</td>\n",
       "      <td>28410.662481</td>\n",
       "    </tr>\n",
       "    <tr>\n",
       "      <th>11</th>\n",
       "      <td>2017-12-31 12:00:00</td>\n",
       "      <td>39565</td>\n",
       "      <td>29867.272031</td>\n",
       "    </tr>\n",
       "    <tr>\n",
       "      <th>12</th>\n",
       "      <td>2017-12-31 13:00:00</td>\n",
       "      <td>39664</td>\n",
       "      <td>29028.576002</td>\n",
       "    </tr>\n",
       "    <tr>\n",
       "      <th>13</th>\n",
       "      <td>2017-12-31 14:00:00</td>\n",
       "      <td>39888</td>\n",
       "      <td>29329.708138</td>\n",
       "    </tr>\n",
       "    <tr>\n",
       "      <th>14</th>\n",
       "      <td>2017-12-31 15:00:00</td>\n",
       "      <td>40210</td>\n",
       "      <td>29756.701041</td>\n",
       "    </tr>\n",
       "    <tr>\n",
       "      <th>15</th>\n",
       "      <td>2017-12-31 16:00:00</td>\n",
       "      <td>40604</td>\n",
       "      <td>30508.612623</td>\n",
       "    </tr>\n",
       "    <tr>\n",
       "      <th>16</th>\n",
       "      <td>2017-12-31 17:00:00</td>\n",
       "      <td>42013</td>\n",
       "      <td>33755.969007</td>\n",
       "    </tr>\n",
       "    <tr>\n",
       "      <th>17</th>\n",
       "      <td>2017-12-31 18:00:00</td>\n",
       "      <td>44605</td>\n",
       "      <td>35738.679504</td>\n",
       "    </tr>\n",
       "    <tr>\n",
       "      <th>18</th>\n",
       "      <td>2017-12-31 19:00:00</td>\n",
       "      <td>44650</td>\n",
       "      <td>35339.072518</td>\n",
       "    </tr>\n",
       "    <tr>\n",
       "      <th>19</th>\n",
       "      <td>2017-12-31 20:00:00</td>\n",
       "      <td>43948</td>\n",
       "      <td>34059.992166</td>\n",
       "    </tr>\n",
       "  </tbody>\n",
       "</table>\n",
       "</div>"
      ],
      "text/plain": [
       "                  date  PJME_MW   predictions\n",
       "0  2017-12-31 01:00:00    35242  26773.232602\n",
       "1  2017-12-31 02:00:00    34410  24862.690655\n",
       "2  2017-12-31 03:00:00    34150  24836.608214\n",
       "3  2017-12-31 04:00:00    34220  24672.140229\n",
       "4  2017-12-31 05:00:00    34627  24783.275318\n",
       "5  2017-12-31 06:00:00    35438  25303.494959\n",
       "6  2017-12-31 07:00:00    36615  25703.451829\n",
       "7  2017-12-31 08:00:00    37612  25879.924122\n",
       "8  2017-12-31 09:00:00    38435  26870.155888\n",
       "9  2017-12-31 10:00:00    38803  27921.280727\n",
       "10 2017-12-31 11:00:00    39375  28410.662481\n",
       "11 2017-12-31 12:00:00    39565  29867.272031\n",
       "12 2017-12-31 13:00:00    39664  29028.576002\n",
       "13 2017-12-31 14:00:00    39888  29329.708138\n",
       "14 2017-12-31 15:00:00    40210  29756.701041\n",
       "15 2017-12-31 16:00:00    40604  30508.612623\n",
       "16 2017-12-31 17:00:00    42013  33755.969007\n",
       "17 2017-12-31 18:00:00    44605  35738.679504\n",
       "18 2017-12-31 19:00:00    44650  35339.072518\n",
       "19 2017-12-31 20:00:00    43948  34059.992166"
      ]
     },
     "execution_count": 18,
     "metadata": {},
     "output_type": "execute_result"
    }
   ],
   "source": [
    "result_comparison.head(20)"
   ]
  },
  {
   "cell_type": "code",
   "execution_count": 19,
   "id": "800a5d5c",
   "metadata": {
    "execution": {
     "iopub.execute_input": "2021-10-04T12:58:53.495542Z",
     "iopub.status.busy": "2021-10-04T12:58:53.494691Z",
     "iopub.status.idle": "2021-10-04T12:58:53.895532Z",
     "shell.execute_reply": "2021-10-04T12:58:53.896064Z",
     "shell.execute_reply.started": "2021-10-04T11:37:16.856307Z"
    },
    "papermill": {
     "duration": 0.498454,
     "end_time": "2021-10-04T12:58:53.896293",
     "exception": false,
     "start_time": "2021-10-04T12:58:53.397839",
     "status": "completed"
    },
    "tags": []
   },
   "outputs": [
    {
     "data": {
      "text/plain": [
       "'/kaggle/working/my_h2o_leader_model/StackedEnsemble_AllModels_3_AutoML_1_20211004_120027'"
      ]
     },
     "execution_count": 19,
     "metadata": {},
     "output_type": "execute_result"
    }
   ],
   "source": [
    "#save the leader model \n",
    "h2o.save_model(aml.leader, path = \"./my_h2o_leader_model\")"
   ]
  },
  {
   "cell_type": "markdown",
   "id": "e217dc3a",
   "metadata": {
    "papermill": {
     "duration": 0.103374,
     "end_time": "2021-10-04T12:58:54.092500",
     "exception": false,
     "start_time": "2021-10-04T12:58:53.989126",
     "status": "completed"
    },
    "tags": []
   },
   "source": [
    "## Thank you "
   ]
  },
  {
   "cell_type": "code",
   "execution_count": null,
   "id": "4fd4f9d8",
   "metadata": {
    "papermill": {
     "duration": 0.109991,
     "end_time": "2021-10-04T12:58:54.309619",
     "exception": false,
     "start_time": "2021-10-04T12:58:54.199628",
     "status": "completed"
    },
    "tags": []
   },
   "outputs": [],
   "source": []
  }
 ],
 "metadata": {
  "kernelspec": {
   "display_name": "Python 3",
   "language": "python",
   "name": "python3"
  },
  "language_info": {
   "codemirror_mode": {
    "name": "ipython",
    "version": 3
   },
   "file_extension": ".py",
   "mimetype": "text/x-python",
   "name": "python",
   "nbconvert_exporter": "python",
   "pygments_lexer": "ipython3",
   "version": "3.7.10"
  },
  "papermill": {
   "default_parameters": {},
   "duration": 3536.568837,
   "end_time": "2021-10-04T12:58:55.479722",
   "environment_variables": {},
   "exception": null,
   "input_path": "__notebook__.ipynb",
   "output_path": "__notebook__.ipynb",
   "parameters": {},
   "start_time": "2021-10-04T11:59:58.910885",
   "version": "2.3.3"
  }
 },
 "nbformat": 4,
 "nbformat_minor": 5
}
